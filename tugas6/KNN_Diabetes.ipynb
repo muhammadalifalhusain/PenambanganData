{
  "cells": [
    {
      "cell_type": "markdown",
      "metadata": {
        "id": "FkhMWwMssvZF"
      },
      "source": [
        "**PREDIKSI DIABETES MENGGUNAKAN K-Nearest Neighbors(KNN)**"
      ]
    },
    {
      "cell_type": "markdown",
      "metadata": {
        "id": "A2ovbM41tEXp"
      },
      "source": [
        "Tujuan Yang Akan Dicapai :\n",
        "\n",
        "\n",
        "*   Membangun model KNN untuk memprediksi diabetes\n",
        "*   Mengevaluasi performa model dengan matrix akurasi, precision, recall, dan F1 Score\n",
        "*   Menyajikan visualisasi confusion matrix untuk memahami kinerja model lebih baik.\n",
        "\n",
        "\n",
        "\n",
        "\n"
      ]
    },
    {
      "cell_type": "markdown",
      "metadata": {
        "id": "mrhvBXYCvdBG"
      },
      "source": [
        "![baganalur.png](data:image/png;base64,iVBORw0KGgoAAAANSUhEUgAAAvsAAAJ3CAYAAAAK857tAAAAAXNSR0IArs4c6QAAAARnQU1BAACxjwv8YQUAAAAJcEhZcwAAEnQAABJ0Ad5mH3gAAFgsSURBVHhe7d0HfBR1+sfxJ5AQAiGFDqGEpiCCgnKKwAGeqGcj2OsZPERFRQE7CKEoJ56NQ1AsYD17ANFT8S8ooKKIClJECCEQQk8nICD/PMNvYIkJkGQ32f3t5+1rXjPz7O7sZteXfueZ38yEHCgkAAAAAKxTxcwBAAAAWIbOPgCUUuaurbJk41zZmLXGmXbkbTaPoCLUiWwoTWJaO1PnJr0ltkZ98wgAoCjCPgCUwrepn8rMpc9L1xYXOGGzaWwbqRcZZx5FRdiWly4bMn9zdrS+Wfex9O04UM6MP988CgDwRNgHgOP0+vcTZHv+JknoeIvE125nqqhMqTtWyoxlz0vdmo3l+i73mSoAwMWYfQA4Dt+mfuIE/bt7PU3Q9yPxddo5v4n+NnrUBQBwJMI+AByDjtGfuXSqJHS4xVTgb/Roiw6v0t8KAHAYYR8AjkFPxtUx+tpFhn/Soy36G+lvBQA4jLAPAMegJ4Lqybjwb/ob6W8FADiMsA8Ax0DYDwx6ZSTCPgAcibAPAMeg19GvX6uJWYO/0kugcs8DADgSYR8AAACwFGEfAAAAsBRhHwAAALAUYR8AAACwFGEfAAAAsBRhHwACROvWrSUkJETeeustUznS+eeff8TjOtfXFDVhwgTnuS59zYIFC8zanw0aNKjY5+i61gEA/ouwDwAB5LzzzpMRI0aYtcM0eH/66afO42lpaabqHVOmTJHbbrtN3nzzTVMBAAQKwj4ABJDExERZu3btn7rsGsQfe+wxs+Y9enRAdyCuvfZaJ/QDAAILYR8AAkzRLntKSooTxC+//HJT8Z7p06fL2WefLd27d5dWrVqVOIQIAOCfCPsAEGDuueceJ9xryFfvvfeeswPQsmVLZ91bdPs6NMjdiRg4cKAT/gEAgYOwDwABRkO9Dq3RkK/uv/9+Z5iNt+n29X3cnYizzjrLCf9HO5kXAOBfCPsAEIB07L6GfB1Wo8NrdJhNUU2aNHHG9xeVmpp6XEcBpk6d6oR7veKOTj169HDqnKgLAIGDsA8AAejqq6925tdcc42MGzfOWS7K3QHQS2e6tCuvQ4COdSRAn6c7CjodOHDg0KQnAXOiLgAEDsI+AAQo9+o7bvAvjgZ0Deee3fn58+f/6UiA1t3n6KTd++LOA3DH73OiLgAEhpDC/xEcMMsAgGIM/eDv8uSl/zNr8Gf8VgBwJDr7AAAAgKUI+wAAAIClCPsAAACApQj7AAAAgKUI+wAAAIClCPsAAACApQj7AAAAgKUI+wAAAIClCPsAAACApQj7AAAAgKUI+wAAAIClCPsAAACApQj7AAAAgKUI+wAAAIClCPsAAACApQj7AHAMdSIbyra8dLMGf6W/kf5WAIDDCPsAcAxNYlrLhszfzBr8lf5G+lsBAA4j7APAMWiA3Ji1xqzBX+lvRNgHgCMR9gHgGDo36S3frPtYUneuNBX4m9QdK53fSH8rAMBhhH0AOIbYGvWlb8dbZMbS500F/mbGsucLf6OBzm8FADiMsA8Ax+HM+POkbs3G8vS8u50uMvyDHm3R30R/mzPjzzdVAIAr5EAhswwAOIZvUz+RmUunStcWFzjjw5vGtpF6kXHmUVQEveqOnoyrY/R16I4eddGdMQDAnxH2AaCUMndtlSUb5zphU6cdeZvNI6gIenlN3dHSScfoM3QHAEpG2AcAAAAsxZh9AAhS8+bNk5CQEOnXr5+pAABsQ9gHgCCXlZVllgAAtiHsAwAAAJYi7AMAAACWIuwDQJByh+/ExMQ4cwCAfQj7AAAAgKUI+wAAAIClCPsAEKQYxgMA9iPsAwAAAJYi7AMAAACWIuwDAAAAliLsAwAAAJYi7ANAkOIEXQCwH2EfAAAAsBRhHwAAALAUYR8AAACwFGEfAAAAsBRhHwCClHuCbnR0tDMHANiHsA8AAABYirAPAAAAWIqwDwAAAFiKsA8AQSo7O9uZc1MtALAXYR8AAACwFGEfAAAAsBRhHwCClHvpTYbxAIC9CPsAAACApQj7AAAAgKUI+wAAAIClCPsAAACApQj7ABCkOEEXAOxH2AcAAAAsRdgHAAAALEXYBwAAACxF2AcAAAAsRdgHgCDFCboAYD/CPgAAAGApwj4AAABgKcI+AAAAYCnCPgAEKcbsA4D9CPsAAACApQj7AAAAgKUI+wAAAIClCPsAEER0nL7npBizDwD2IuwDQBAZMmSIxMbGOlNqaqpTa9GihYSEhDhzdwcAAGCHkAOFzDIAwHIa5jXoF2fatGmSmJho1gAANqCzDwBBRIfsFBfo4+PjJSEhwawBAGxBZx8Agkxx3X26+gBgJzr7ABBkinb3e/XqRdAHAEvR2QeAIKQn5+oJuSo5OZkhPABgKcI+AASp/v37O6F/7ty5pgIAsA1hHwCClAZ9nXQYDwDAToR9APDQsMOlZgm22bzsA7MEAMGDsA8AHjTsdzh3mFmDLZZ99gRhH0BQ4mo8AAAAgKUI+wAAAIClCPsAAACApQj7AAAAgKUI+wAAAIClCPsAAACApbj0JgB4KMulN8fc1E66tq9t1kRmLsiQSckpZi3w9OvRSPp2bySJ45eYStlMHNxR2jWvZdZEVq7PlcETl5q1isWlNwEEKzr7AOAF3yzfKX2GLZShzy5zgjIO0h0f/V50iqsb4ewAHM0d/Voe8zkAgONHZx8APJS1s69GvrzSmb8/5gxJmr5SlqXkOMtRNUOduu4IaE3DbFbe3kNHAzyPBMx5opszd+lrhl3V2nlO8vwM6dAySpIS28llIxc5wbh+bPih7egOR0xkmNNNz8nf5zxH6WdYnppz6HmTZ6Q42yrpc7eOq3mos1/0qIWGdjX9wc6StqXgT9v0pH/n6g15h/42/exP3t7B2YYePRiU0NKpK3297gx47ii5f7vWVfr2gjIfbaCzDyBY0dkHAC/SEKvh3g31r89JO9Tx1+Dqah8f5dQ15PbuVM+p6fPdIwQ614Cv2zkaDdu6bZ10WXci9PW5BXudnQFPWtdtlubIg+4I6Ovcz+TuIKhmDSJKtU39W3QnREO/7hi429XvQF+vOwW6LR3uo3V9voZ793lKv18AwPEj7AOAF2jQ1q68dqs1eCvtSOu61rWj7Xao1dwftzlzDb1u519tzdzjzLVDr137Y9FgrKHY3Slwu/Tadfd8/bvz0p25BmrPz3EsGsz18+vk2eFXGszVlz9vl1oRYc5yaeiRBPc7K4nusLjvX5rPDQA4iLAPAF7gduTdjrRLg79bd7vTJdGuvHa43WDrBvfK5A4h0s+uf2N56I6De9RDjxDosBzdrnb2S6Lfh/sd6vMBAKVD2AcAH9GhNFf0ijNrx6bDYtxg6463Vzr0pVObGGe5NNvz5L5OO+VuaNajCPqeyh1+VBz3+e5zy0p3HPRIhEt3bpT7t5XE3Xmisw8ApUfYBwAf0fHm7vAenfSk1qPRoTc63Md9vntVmhdmpx7ajg7vKQt9nb5eO+VPvL3GqemQHh1+49Z1p6Io7eq7Q5HKMlTHPVKhk/597qU39aiF+zfp+Qsu/Ux6grHW9UiAHk1wX1/c5wMAHB1X4wEAD2W5Go+36Bh2z46+BtxjDf05Hu5VdjyHFwUbrsYDIFjR2QcAP6GXx3S72Dq5J8ACAFBWdPYBwENldvbhO3T2AQQrOvsAAACApQj7AAAAgKUI+wAAAIClCPsAAACApQj7AAAAgKUI+wAAAIClCPsAAACApQj7AAAAgKUI+wAAAIClCPsAAACApQj7AAAAgKUI+wAAAIClCPsAAACApQj7AAAAgKUI+wAAAIClCPsAAACApQj7AAAAgKVCDhQyywAQ9Bp2uNQswTabl31glgAgeBD2ASBIzZs3T3r37i0JCQmSnJxsqgAAmzCMBwCCXFZWllkCANiGsA8AAABYirAPAAAAWIqwDwBByh2+ExMT48wBAPYh7AMAAACWIuwDAAAAliLsA0CQYhgPANiPsA8AAABYirAPAAAAWIqwDwAAAFiKsA8AAABYirAPAEGKE3QBwH6EfQAAAMBShH0AAADAUoR9AAAAwFKEfQAAAMBShH0ACFLuCbrR0dHOHABgH8I+AAAAYCnCPgAAAGApwj4AAABgKcI+AASp7OxsZ85NtQDAXoR9AAAAwFKEfQAAAMBShH0ACFLupTcZxgMA9iLsAwAAAJYi7AMAAACWIuwDAAAAliLsAwAAAJYi7ANAkOIEXQCwH2EfAAAAsBRhHwAAALAUYR8AAACwFGEfAAAAsBRhHwCCFCfoAoD9CPsAAACApQj7AAAAgKUI+wAAAIClCPsAEKQYsw8A9iPsAwAAAJYi7AMAAACWIuwDAAAAliLsA0AQ0XH6npNizD4A2IuwDwBBZMiQIRIbG+tMqampTq1FixYSEhLizN0dAACAHUIOFDLLAADLaZjXoF+cadOmSWJiolkDANiAzj4ABBEdslNcoI+Pj5eEhASzBgCwBZ19AAgyxXX36eoDgJ3o7ANAkCna3e/VqxdBHwAsRWcfAIKQnpyrJ+Sq5ORkhvAAgKUI+wAQpPr37++E/rlz55oKAMA2hH0ACFIa9HXSYTwAADsR9gEAAABLcYIuAAAAYCk6+wBQAWZ9ulBuufdJ4T+5lUPvEDx/1kRpHR9nKgAQHAj7AOBjmVm5ctbFd0lMq79JZJ14U0VF2bEyWa5P6C5DB3LFIQDBh7APAD52411PyLrtIuENzzQVVJT8jB+kdrVMmT19lKkAQHBhzD4A+NDbM+bKTyvXE/QrQUH2ZklbuUD+M2agqQBA8CHsA4CPZGzdKQ+Of0kim3YzFVSkvI0LZPjQ/tKiWSNTAYDgwzAeAPCRK28dL1vyaki1BqebCipK3sbvpHFUgbz/wkOmAgDBic4+APjAy299KmvTthH0K8GurI2yOfUHmfTIraYCAMGLsA8AXrYuLUOSHp8mEY0ZvlMZctYvkFHDbpRG9WubCgAEL4bxAICX9b1pjGTtjZVq9Tubive8P+YMiaoZatZEZi7IkEnJKWbNO8bc1M6Zj3x5pTNX0x/s7LxX8vwM5zO8PidN1qTny5O3d5A+wxaaZ1W+3I1fS6t6Im9MutdUACC40dkHAC+aNG2WbNqa65Og7xr67DInYOu8b/dGcke/luaR4mlQ79fDeyepXjZykRP6l6Xk+FXQz9uxXjI3rpBJ4xi+AwAuwj4AeMmqNWnyyFOvSPW47qbiWxq2tdt+etsYZ33i4I4y54luzqTdd6VBP65uhAxKaOksd2gZdeg5Oh1rR6E4njsPug1/oAeps9fPl3EP9pfYmFqmCgAg7AOAl9w9aqq0OfUcqR5Z11R878uft0utiDBnefDEpU6nXaf07QVOkE8cv8RZnjwjxVl2u/HukYHeneo5rw10eWnzpWvnk+SKi/5qKgAARdgHAC+YMPldycz7Q8LrdTSViqfddrdj3655yd1t7czrc3S8vQ1ytq6V/J2p8p9xN5sKAMBF2AeAcvp5+Vr5z4vvSXjjs0yl4vQ8pa7kFux1lq/v08zp4GvXfuX6XKdWlDtsx+3sB7o/9u91hu+Mf+ifUiOiuqkCAFyEfQAopyFJUyW+w98kvEasqVQcPUF38aossybOFXKUjtMvSU7+PmeuOwrF+fG3LOna/vBlK/WIgW5PT8r1N3kbFkjv7p3lonP+YioAAE+EfQAohzFPvikF+8Olet32puJ7OvzGHa6jnXz30ptzf9x26DFPujPgnqCrz9Xgrs8paby+hno98dd9D32tPx4FyN7yq+zNy5BnufoOAJSI6+wDQBl9u2SFXHPbo9K8yw0SFh5pqvbTnQb3mvuVZf/eAkn7/nV54d93S+9up5oqAKAoOvsAUEZDRr0gzdqdHVRBXzv9evWfyh7Sk79hgVzy9x4EfQA4Bjr7AFAGD4yfLvOXpEmNZn8zFVSU7E3LJSR3pSya/ZSpAABKQmcfAErpy29+lg8+/FLCG1X81XeC3d49ebJ17ZfyzBguswkAx4OwDwCl8McfB2TYmBek/ok9pWpYyVe8gW/o8J3rLvu7nNn5JFMBABwNYR8ASkEvsxlRq7FE1G5jKqgoWZuWSkTV3fLI/debCgDgWAj7AHCcPp37vXz25WKpVgk3zwp2e3ZlSsaqefKfsVxmEwBKg7APAMdhV8FuuW/ci1K7RU+pUjXMVFFR9OZZtyReKqe0b2UqAIDjQdgHgOMwZNSLElWvpdSo08JUUFFy0n+U2pFV5eG7rjIVAMDxIuwDwDHM+nShfP3DCglvfOSdaeF7u/O2y/rlX8ikcbeYCgCgNAj7AHAUmVm5cv+4l6RWs+4SEhJiqqgoeWkL5N47/iFtWzczFQBAaXBTLQA4in/c9W9Zt12kesOupoKKkpO+WOpWy5KPXh1lKgCA0qKzDwAleCt5rvy8Mo2gXwkKsjfLptXfyKRxA00FAFAWhH0AKEbG1p3y0L9eksimjNOvDHr1nQfu+oe0aNbIVAAAZcEwHgAoxpW3jpfNuRES3rCLqaCi5GxYJI2jCiT5xeGmAgAoKzr7AFDES//9RNambSfoV4JdWRtl6/olMvnR20wFAFAehH0A8LAuLUOSHp8mEdwlt1Jkr18gI4f2l0b1a5sKAKA8GMYDAB763jRGsvbVlmr1OpkKKkp22kJpVT9E/vvsvaYCACgvOvsAYEyaNks2bc0j6FeC3B2pkrVppUx+5FZTAQB4A519ACi0NjVdul18p1lDRdMblk15bIgk/L27qQAAvIGwDwBBat68edK7d29JSEiQ5ORkUwUA2IRhPAAQ5LKysswSAMA2hH0AAADAUoR9AAAAwFKEfQAIUu7wnZiYGGcOALAPYR8AAACwFGEfAAAAsBRhHwCCFMN4AMB+hH0AAADAUoR9AAAAwFKEfQAAAMBShH0AAADAUoR9AAhSnKALAPYj7AMAAACWIuwDAAAAliLsAwAAAJYi7AMAAACWIuwDQJByT9CNjo525gAA+xD2AQAAAEsR9gEAAABLEfYBAAAASxH2ASBIZWdnO3NuqgUA9iLsAwAAAJYi7AMAAACWIuwDQJByL73JMB4AsBdhHwAAALAUYR8AAACwFGEfAAAAsBRhHwAAALAUYR8AghQn6AKA/Qj7AAAAgKUI+wAAAIClCPsAAACApQj7AAAAgKUI+wAQpDhBFwDsR9gHAAAALEXYBwAAACxF2AcAAAAsRdgHgCDFmH0AsB9hHwAAALAUYR8AAACwFGEfAAAAsBRhHwCCiI7T95wUY/YBwF6EfQAIIkOGDJHY2FhnSk1NdWotWrSQkJAQZ+7uAAAA7BByoJBZBgBYTsO8Bv3iTJs2TRITE80aAMAGdPYBIIjokJ3iAn18fLwkJCSYNQCALejsA0CQKa67T1cfAOxEZx8AgkzR7n6vXr0I+gBgKTr7ABCE9ORcPSFXJScnM4QHACxF2AeAINW/f38n9M+dO9dUAAC2IewDQJDSoK+TDuMBANiJsA8AAABYirAPAB7mfLlY/nHneOE/jfC5wn/FQqqEyHf/myJN4+qbIgB4F2EfADz0vPQe2R91skTUaWMqgG9kpfyfnN2luTz20I2mAgDex6U3AcB49d05smtvFYI+fG5XdoZkb10nY4ZdYyoA4BuEfQAopAc5J0x+R8LqnWYqgO8UbP5BBvW/VMLDq5kKAPgGYR8ACo2f9I5E120qNWObmArgGzlb10joH/ly94CLTQUAfIewDyDobdmWKZOnfSBV63Y2FcB38jMWy323X2XWAMC3CPsAgt64iW9Ji3Z/kfAasaYC+MbOjT9LXP1YufzCbqYCAL5F2AcQ1JatWicfffa1hNHVh48dOPCH5Gz4Xsbee62pAIDvEfYBBLUxT74pTdp2laqhnCgJ38pO+07OOL2D/KVTW1MBAN8j7AMIWv83/wdZtXajhNc9xVQA39i7O1c2/fatPHLfdaYCABWDsA8gaI175i2JbtLFrPne+2POkA4to5zlO/q1lOkPVv7QoTE3tZOJgzuatcP0s815otuhyf3cpVHS6/r1aOR8Fy5d1ufqZ7GVnpR7zeUXSPMmDUwFACoGYR9AUHrzg/+TvN0hElH3RFOpOBp2+3ZvJInjl5hK8TQA+9rIl1fK4IlLzdqRJs9IkT7DFsrMBRky7KrWpnr89LXLUnKcZc8dneT5GXLZyEXOstZyC/Y6z9XPYqOC7M2StXkNY/UBVIqQA3onGQAIMh3OHii1mp8tNWs3NRXf08CbNH2lPHl7Bxn67LIjgnBUzVBneeX6XCd8ewb9b5bvdIKwduDbNa/l1DSAT0pOcZaL7hTotpW+j8t9P+2ex0SGOdvR91q9IU9OaBr5p8CvnX19Dw3mGsiTEts5AV2Xi9uuHqnQHRjlfl7379XXun+fKyd/36HvwuX5ndhkx6+z5fpLzpShA/uaCgBUHDr7AILOY8++I7Vqx1Vo0HdpuNUQ7RlqNURrZ1unuLoRTqDWZeV2vDVMZ+Ud7IDr1LtTPedx3QHQcK01nbvb1oDt2ZnXdZe+h9ZL6ugXdUWvOKf7rkrarn4eDetaL9qh179Pw737uM6Vfk7dVvr2AqduY9DP2bpWquzPI+gDqDSEfQBBZduOLHn25Q8ktG4nU6lYGshPbxtj1g7Sbrt253Uq2gF3afe9a/vaRzxPhwOprZl7nLl27OvHhh8xXEbpEQDP7S5PPb5QPSihpfNe7eOjnCFHR9uuBnbPLj0Ocm6gNehKswYAFY+wDyCojHvmbYk/8TQJr1nHVCrWu/PSnbl7MqoGaA3x2tnWSTvgJdFOuvs8nTR0a7dfh89oKNeOvTfHvbsdfHd8/dHoUQJ9rn4Om0+0LY2dG5dKXP0oufLiHqYCABWPsA8gaCz/NVVmffKVhFbyDbS0S64B3+3MuwFfg39JnX0N9UWPCKhmDSIODY9xQ7kOh/Hs/OsQIO28l9fxbFd3EPQzBTs9HS4n/XsZcw8n5QKoXIR9AEFjzFP/laYnniVVw6qbSuXRUHx9n2ZOgNbArB1xHQbj2dnXE2jdTrnbsdd1d1JpWw4On3Fr7mU0dfvuMJzjufLP8Sppu+7762N6BKIoHTqkn7O4y3zaKHvj93L6qSfJGZ1PMhUAqBxcjQdAUJi78Ce5Y8Rz0rjzDaZiB73ijecwGw3c2uVH5dm7J09+W/iSzJ/xjLRsfvAoCABUFsI+gKDwtysfkD01TpCIOhV/XX1f0q6/DglyaVfdvSQnKkdWyjzpfmpDeWrUP00FACoPYR+A9d6ZOVcmTP1YYtsmmArgGwU5WyTjlxny8+fPS2RNzl0AUPkYsw/Aeo9OelvC6lfOpTYRXAo2L5Zbb+xH0AfgNwj7AKz2xHPvSY2oBhJZu7mpAL6Ruy1FDvyeI/fe2s9UAKDyEfYBWGtnVo5MfPF9Ca17mqkAvrMr4we557YrzBoA+AfCPgBrPTLxHWl+QmcJj6ycG2gheGSm/yL1a9eQaxN6mgoA+AfCPgArrVqTJu9/+IWE1mWsPnwvN30xN9AC4JcI+wCspDfQat62m1QN40RJpXe9nf5g5d452FZZad9Jpw4nyFldTjYVAPAfXHoTgHW+/OZnuf2hKdLIshtoHY8OLaOcO9W69Lr7eodevbOtS++C27tTPWnXvJazrnftdW/MpTfpSpq+0rmzr+4gePPuuzbat2eX/Pb1i/LlB09Jq/jGpgoA/oPOPgDrjH36v1K7+V/MWnDRkK530NVp6LPLnFCfPD/DCfga+rWu64MnLj30PK3f0e/wzgCOX96m7+WyS/oQ9AH4LcI+AKu8++E8yczbK+GW3Sm3NHS4zpwnuh3R4S9Ku/b6HJ3cDj9KpyB3q2xPXyFjGasPwI8R9gFYZfx/3pHw+sF7qU23Q+929ktyfZ9mTrdfn7dyfa6pojT0Blq33NhPoiJrmAoA+B/CPgBrPP3CB1K9Vn2pGeQ30NIx+KrnKXWdeUnWpOc787i6h09izi3Ye+h1OgQIxcvbvk72F2TKA4MuMxUA8E+EfQBWyMrOk4kvvC9V6wT3pTYnJac44V2H53iGdR2nXysizKnrEJ65P25zhvnouic9oVdPyi1ax5HyMxbLPbddadYAwH9xNR4AVrhv3EvyzfLtUr1xd1MBfCNz0y9Sa3+qzH1nvKkAgP+isw8g4K1eu0HeSp4joXW5jjx8L3fjYhk95BqzBgD+jbAPIODppTZbtu8uodU4URK+lbXhOzmlfWv5a9eOpgIA/o2wDyCgLVi0TH5YtkbC6gX3WH343r7fd8mWtYtk3L1cahNA4CDsAwhoY5/5r9SND84baKFi5W1aLH0vOFtOaNXUVADA/xH2AQSsDz6eL9szCyS8TjtTAXxjd+522bZ+GTfQAhBwCPsAAtajE9+W6g1PN2uA7+gNtAbe2E9ioiNNBQACA2EfQED6z8szJKxmrNSoHW8qgG/k7kiVvbu2y0N3XmEqABA4CPsAAk5O3i55eqreQItLbcL3CjJ+kCEDuVMugMBE2AcQcHT4TlyLkyWiVn1TAXwjc9MKiakVJolXnmMqABBYCPsAAsra1E3yxvuf0NVHhchP/15G3c0NtAAELsI+gICiN9BqpTfQCucGWvCt7A0/yElt4+Xs7qeaCgAEHsI+gIDx9fe/yKIlqySsHl19+Nb+vQWyZd238sh915sKAAQmwj6AgDHumbekfsszzRrgO3npi+XCc3tK29bNTAUAAhNhH0BAmPG/BbJ5R75Uq9PWVADf2JO3Q7as/1nG3ctYfQCBj7APICDoFXhqNjrNrAG+s2vzYhlwQz+pHRNlKgAQuAj7APze5OkfSmj1aKke28JUAN/I27le9uRtkYfvutJUACCwEfYB+LW8/AJ5cuq7UqUuJ+XC95wbaN18uVkDgMBH2Afg1x79z1vSuNlJEhHVwFQA38jMWCHRkaFy09V9TAUAAh9hH4DfSlmfIa+89bFUqdvJVOCa/mBnmfNEN7N2UNF1b+rXo5G8P+YMsybOsr7fmJvamUrg0yvwjBh8tVkDADsQ9gH4rXET35Y2HXtIWHikqcBTTv4+n4ZtDfQdWh48STV5foZcNnKRs6y13IK90mfYQhn58kqnFugyN/wg7do0lz5/ZccSgF1CDhQyywDgNxYtWSH/uOvf0rTLTRISEmKqcGlnf/GqLOnbvZETupV22t3lO/q1dB5TK9fnyuCJS51lDfBRNUOdZTV5RorzvLi6Ec56+vYCSRy/5E/PU7pzkTR9pTx5ewdTERn67DJZlpJj1gLT/r27JeXrl+SjNx6V9ifGmyoA2IHOPgC/NPaZt6Rh6zMJ+kehwVyDfNHuvnbeT28b4wR/N/zrMBx9nr5GazMXZMg3y3c6HXsN90Wfq118Dfca5rWuc6XBXncQ3O0EetBXeZu+l/PO6U7QB2Alwj4Av/PhZ1/Lpi05Uq12e1NBSV6YnSpd29c2awf1PKWu06nXTr9O7ZrXkk5tYpzHsvL2OvP6seESExnmLOtRAPe5boc/WOzJ3yEZKT/JuHuvNRUAsAthH4DfeeSZt6Rm49PNGo5GO+vaoS/a3deOv9ut10nH1m/N3OPsGGio17k7tEeH8bgdfO3YBxO91OY/r0+QenUO7gwBgG0I+wD8ygtvfCwhYbW4gVYpaJD37O5rYNduflEnNI10huC4OwCe3OE4wdTZz9+5QXZlb5KkoVyBB4C9CPsA/EbB7j3y+OR3pCo30Co17e67dBy+rrtDc3TScfirN+TJoITDQ3b0JF/l+Vwdp+9anprjnIw7cXBHU7HLrozFcvdAbqAFwG5cjQeA3xj179dk7uINEh7X01TgTRrun3h7zaEuvl5xR6+uY8NJtqWVlbFKwnetkAUznjAVALATnX0AfmH9xi3ywmszpUoduvq+opfq1E6928XXzn0wBn2Vn/G9jLj7GrMGAPaisw/ALwy452lZu7WKhNY7zVQA38jauETiIrNlxksjTAUA7EVnH0Cl++7HVbLg26VStS53L4Vv7d/3u2xbt0jG3nudqQCA3Qj7ACrduKffkoZt9AZa/CcJvpWb/r306d1VOrTlak8AggP/ZwVQqWbP+UbSNu+UMG6gBR/bsytTMlJ+kHH3cAMtAMGDsA+gUj36n7ckKq6LWQN8Z/fmxdL/2r7SoF6sqQCA/Qj7ACrNy29+LH9UqSnhsS1NBfCN/MyNklc4jRnGFXgABBfCPoBKsWfP7zJhyrvcQAsVoiBjsQwecLmEhISYCgAEB8I+gErx2LPvSr241lIjupGpAL6RvflXqVHtD7n1+vNNBQCCB9fZB1DhNqRvlS7n32rWUFl+z98umevmS3hUI4lpdqap2ke7+a/+50Hp0/N0UwGA4EHYB4AgNW/ePOndu7f06tVL5s6da6oAAJswjAcAAACwFGEfAAAAsBRhHwCCVFZWljOPiYlx5gAA+xD2AQAAAEsR9gEAAABLEfYBIEgxjAcA7EfYBwAAACxF2AcAAAAsRdgHAAAALEXYBwAAACxF2AeAIMUJugBgP8I+AAAAYCnCPgAAAGApwj4AAABgKcI+AAAAYCnCPgAEKfcE3ejoaGcOALAPYR8AAACwFGEfAAAAsBRhHwAAALAUYR8AglR2drYz56ZaAGAvwj4AAABgKcI+AAAAYCnCPgAEKffSmwzjAQB7EfYBAAAASxH2AQAAAEsR9gEAAABLEfYBAAAASxH2ASBIcYIuANiPsA8AAABYirAPAAAAWIqwDwAAAFiKsA8AAABYirAPAEGKE3QBwH6EfQAAAMBShH0AAADAUoR9AAAAwFKEfQAIUozZBwD7EfYBAAAASxH2AQAAAEsR9gEAAABLEfYBIIjoOH3PSTFmHwDsRdgHgCAyZMgQiY2NdabU1FSn1qJFCwkJCXHm7g4AAMAOIQcKmWUAgOU0zGvQL860adMkMTHRrAEAbEBnHwCCiA7ZKS7Qx8fHS0JCglkDANiCzj4ABJniuvt09QHATnT2ASDIFO3u9+rVi6APAJaisw8AQUhPztUTclVycjJDeADAUoR9AAhS/fv3d0L/3LlzTQUAYBvCPgAEKQ36OukwHgCAnRizDwBBal16JkEfACxH2AeAIDTny8Vy7W3jnDkAwF6EfQAIMv/7YpHcOPhf0qBVV0kc/JizDgCwE2EfAILI7DnfyM3DnpA2XS6Xei27StNOCTKgcH3Wp9+YZwAAbMIJugAQJGZ9ulDueGiSxHfuK+FRTU1VJG9nmqQvnSlPj71DLr2gu6kCAGxA2AeAIJD88XwZMmqKNDtVg34TUz0sf+cGSV82Sx4feYtceUnPg0UAQMAj7AOA5d79cJ7cN+5FadKxr1SPamyqf5afmS6bfpkljzx4k1zX72xTBQAEMsI+AFjs7ZlfyEOPTpdGHS+RiKhGplqyXdmbJGPZLEm690b5x+XnmCoAIFAR9gHAUm988Lkk/ft1adj+Yqke1dBUj60gO0O2rJgtD911rfS/6lxTBQAEIsI+AFjo1Xc/k0ee/q/UO+liiYhqYKrHryBni2xd8aHce/tVcvO155sqACDQEPYBwDIvvfmxTJjyntRrd4lE1KpnqqVXkLtNtq2cJXcPuExuu/FCUwUABBLCPgBY5PnXZsszL86QOm0vluqRdU217HbnbS8M/B/KoMRLZPBNl5gqACBQEPYBwBKTp8+SZ1+ZLXVOvEjCa9Yx1fLbk7/DCfwDr79QhtycYKoAgEBA2AcAC0x8aYZMfeMTqa1Bv0asqXrPnl2Zsn3VbLnp6vPknlv6mSoAwN8R9gEgwD019QN5+Z05UrvNRVKtRoypet/vu7Jkx+rZcv2lf5MHbr/cVAEA/oywDwAB7PHJ78rryfMktjDoh0VEmarv7C3IkR2/fihX9+0pwwdfZaoAAH9F2AeAADV+0tvy9swFEnvChRJavZap+t6+3bmFgX+2XHZhNxk15BpTBQD4I8I+AASgcU+/Ke9/skiiW18oYeE1TbXi7N2TL5mrZ0vfPn+RMfdeb6oAAH9D2AeAAJP0xOvy4eeLJaow6IdWq2GqFW/f77ska/VHcsHfTpNH7rvBVAEA/oSwDwABZMSEV+STL3+WqFYXStWw6qZaefbv3e10+Pv06CgThvc3VQCAvyDsA0CAeHD8NJmz4Beno181NNxUK9/+fXsk89fZcvZZ7eWJkf80VQCAPyDsA0AAuG/sSzLvu1VSq9WFUqVqmKn6jz/275Ws32ZLj9NPlKdH32yqAIDKRtgHAD83bMwLsnDxGolsdYGEVAk1Vf9z4I99zhj+s05rLRPHDDRVAEBlIuwDgB+7a+RzsmhpqkS2vFBCQqqYqv86cOAPyV7zkXQ5ublMfvQ2UwUAVBbCPgD4qTuGT5YfVmyUmi0uKAz6Iabq//R/Kxr4O7eLk+cfu8NUAQCVgbAPAH7o1gf+Iz//ulkiW15gKoEn+7ePpOOJDeXFxwebCgCgohH2AcDPDLjnGVm5bofUiD/PVAJXbson0q5FHZn25N2mAgCoSIR9APAj/Yc+JavTsqRG83NNJfDlpnwqbZrFyGvPDDUVAEBFIewDgJ+4cfC/ZW1GnkQ062Mq9shd95m0ahwpb0y611QAABWBsA8AfuC6OydI2uYCqd7sHFOxjwb++IY15K3J95sKAMDXCPsAUMmuGfQvSd+5T8LjepuKvfLWfyFxtavKe1MfMhUAgC8R9gGgEl1163jZlLlfqjexP+i78tPmSsNokQ9eHGEqAABfIewDQCW5bMBY2Z4fKtUa/9VUgseuDV9K3Zr7ZOa0kaYCAPAF/78dIwBY5o8/DkjCTaNlx66woAz6qkbTns6OzkU3JjnfBwDANwj7AFCB9u7bXxj0kyRrT4SENephqsFJA3/m7uqFgX+U870AALyPYTwAUEF27/ndGbqT/0eUhDU8y1RRkL5QIqvkyoxpD0v18GqmCgDwBjr7AFAB8nftdobu7PojmqBfRERcN8kr3AG6+MYk53sCAHgPYR8AfCwnb5dckpgke6rUltCGXU0VniLizpKCkNrOGH79vgAA3kHYBwAfysrOk4T+SbK/Wn0JrX+mqdqhQ8soeX/MGWat/CIad5W9ofXk4htHOd8bAKD8CPsA4CPbd2ZL38KgX5hiJayB90Kxa+LgjjLniW6Hpn49GplHjp+G9eJep0Fet+ma/mBnZ13f03VFrzhZnppj1rwjovGZsj+8kVycmOR8fwCA8iHsA4APbNmW6YzRD63VTKrW62Kq3jdzQYb0GbZQJs9Ikev7NDPV43fZyEWSPD/DWdZA7wb/ZSk5znZdtSLCnPXBE5eaikizBhHy7rx0s+Y9EY0Kd4wimsgliaOd7xEAUHaEfQDwsowtO6TfTUkSHtNSqtQ9zVR9SwN7VM1QZ9ntyruTrisN8m7N7dC7AV/ncXUjZFBCyyNeq3Su29a5uzOg29QdAN0p8IXqjbpIlVrNpW9ikvN9AgDKhrAPAF60cdO2wqA/WiLqtJEqdTqZqu/d0a+l5OTvc5aTEts5nX7txGvnX9dV3+6NDtU9O/QqcfwSSd9ecOhxz67+0GeXOdvWmnsUwBdDeIqKaHi6hMW2doZC6fcKACg9wj4AeEnqhs3S75+jpWa9thUW9DXAa8dd5zokx+3iu6F8UnLKoY5/2pYCp3PvPqc82sdH+WQIT1HVG3SW8NonSt/CHSj9fgEApUPYBwAvWLt+k1w6YIxENTq5MOifYqq+547Z9+zEl2Tkyyud52mn3/NE29LSnYXcgr0+G8JTVPUGnSSi7knOORD6PQMAjh9hHwDK6beUjXL5zWMltnFHqRLbwVQrhwZw7eS7Y+t1eI8Oz/GUNH2lMz6/rHQIjx4lqEgRDU6RyAYd5NLCwK/fNwDg+BD2AaAcVq1Jk0v/OVpqNzlVqtSu3KDv0nH37om2OrxHx+Mrvcym1p68vYPM/fHPY+AXr8pyXqcn6x5NRQ3hKUoDf63Gpzrft37vAIBjCzlQyCwDAEph+a+pcuUtY6VhyzOlSuxJpmo3HcIz7KrWh3YgKkPB1l9kR9p38t7Uh6X9ifGmCgAoDp19ACiDpSvWyhUDxkjD1l2DJuiryhjCU1RE/ZOlTvMz5LJ/jnZ+BwBAyejsA0Ap/bjsN7n6tkcl7sRuUjXm4GUtUfEKtq2QbSlfy1tTHpJOHdqYKgDAE519ACiFxT//KlfcPLYw6Hcn6FeyiHonSd2WZzknR+vvAgD4M8I+ABynRUtWypUDx0rT9r0Lg35bU0VlqlEY+Buc8FdnB0x/HwDAkQj7AHAcvv7+F7nq1rESf3IfCY05wVThD2rWayeN2p4tV986zvmdAACHEfYB4BjmL1rqBMmWHc+TqjGtTRX+pGa9EwsD/zmFv9Mjzu8FADiIsA8ARzHv65/kmsKg36rThVI12r+Cvl43XyeXXhbTc93b9AZdntfgd6/bP+Ym/zh3oWa9EySu/XlyzW2POL8bAICwDwAl+mLBErn2tnHS5vRLJDS6pan6Hw3hvqJh3jUpOeXQ9fV1xyK3YK/0GbZQRr7sP2PlI+u1kaYdLpDrCgO//n4AEOy49CYAFOP/5v8g1w16xLmOfr2WZ5mqf9HOut4Jt3enenLZyEVOAE9KbOcsK+24d21f21n+ZvnOQ6FcXxdVM9RZVnrH3ev7NDtUW7k+VwZPXHpE0Helby+QJ95e49yF1zX02WWyLCXHrPmHrWu+lq3rvpXXnx0uf+tx9DsCA4DN6OwDCGhJSUkSEhLi9emcv54uW35Jlp9n3CdZ6T+bd/M/X/683emwF+3u9+vRSGIiw5zOu07NGkQ4OwO6A6CBXWszF2Q4OwHJ8zOcHQT3uXF1Dz5Xl5Vb150CpcFel93t+FvQz9m6RranficvPf0AQR9A0CPsA8AxpK/8XPK2rTFr/kdDu3b3PXVqEyPtmtdyuvM6aYDveUpd57GsvL3OvH5suLNDoHQnwH2uZ9c/0GRvWS0bf/lIXp74oFxwdhdTBYDgRdgHYIVRo0aJjkr0xfT21CRJX/6J5G9bbd7Nv2hnXrvsV/SKM5WDtGvvduV10jH3WzP3OEN7NNTrXIfraBdfl93n5eTvM1sILNlbfpXNKz+T154dLuf1pKMPAIqwDwDH0OOMjvLWc8MlY9XnhYHfP+/U+sLs1EPj85WG+vbxUWbtsBOaRjpDcNxg73IDvgb/QOzsZ2Wskq2//l9h0H9Qzj7rFFMFABD2AeA4nNXl5MLAP6Iw8H9RGPj9706tOm5eT6x1aRdfu/3u0BydNMiv3pAngxJaHqrppTT1te5z9cRbz86+blPr/nJ5zeJkbloh29bMlTcmPyQ9z+xoqgAAxdV4AAQ0PUF39OjRzjAeXfa1xT//Klfd8og0PKGH1Kh3kqkGDg33ejUd96RavTJP0vSVfneS7fHK3PSLZK5b6Bx56XLqiaYKAHDR2QeAUjj9lBPlvRcelu0pX8uurctNNXAsXpXldO/dzv7y1JyADfpZ6cske/038u7Uhwn6AFACwj4AlFKnDm0KA+YI2bHuGynYFliBX4f3uOP1dfKnG2KVRmb6UsnZuEjef/Fh6dyxjakCAIoi7ANAGXQ8qZW8/9Io2bF+kRRs/cVUURGyC4N+/qbF8kHh96+/AwCgZIR9ACij9ifGS3Jh4Mza8H1h4F9qqvCl7PSfJS/jB0l+eZTz/QMAjo6wDwDl0LZ1s8LgmSS5m36Sgi0Efl/K2vhj4Xf8k8ycluR87wCAYyPsA0A5tWnZRD54eZTkFYb9gi0/myq8KXvjEvl9x3KZMT3J+b4BAMeHsA8AXtCqeWOZURj4d21bLru3/Giq8IbsDT/I3qxVMnPaKOd7BgAcP8I+AHhJfNOGMmtakuzZ+asUbP7BVFEe2Ru+l/05v8mHhd+rfr8AgNIh7AOAFzVpXM8ZU74va21h4F9sqiiL7I3fieSmyOxXkpzvFQBQeoR9APCyRg3qyMzpSfJH3nrZnfG9qaI0cjYskiq70uTDV0c73ycAoGwI+wDgAw3qxcqsaaNECjZKQcYiU8XxyNnwrVTdne509PV7BACUHWEfAHykbu1o+XB6klTdkyEFm741VRxNTto3ErY3Qz5+bbTz/QEAyoewDwA+FBMdKR++MlrC9m0rDPzfmCqKk71+oVT/Y1th0B/jfG8AgPIj7AOAj0VF1nCGpEQc2CkF6V+bKjzlrF8gkVUynY6+fl8AAO8g7ANABahZo7p8WBj4I6vkyK6NC0wVKjv1K6kVmuMEff2eAADeQ9gHgApSPbyafPhqkkRXyy8M/PNNNbhp0I+tvkv+9/oY5/sBAHgXYR8AKlBYaFWZ/crowoC7W3Zt+NJUg1P2urlSO2K3/O+1Mc73AgDwPsI+AFSwKlVCnDH8dWvuk/y0eaYaXLLXfSH1IvfLJ6+Pdr4PAIBvEPYBoJLMnDZSGkYfKAz8c00lOGjQbxgt8tGro0wFAOArhH0AqEQfvDhCGsdWkbz1X5iK3bJSPnf+3lnTHjYVAIAvEfYBoJK9N/UhaV6/muSu+8xU7JS15jNpXi9cZrw03FQAAL5G2AcAP/DW5PulVeNIyU351FTskrnmU2nRqGbhjs0DpgIAqAiEfQDwE29MulfaNIuxLvDvXP0/ad00St557j5TAQBUFMI+APiR154ZKm3jYwsD/yemEth2rv5Y2rWoLW9NusdUAAAVibAPAH5m+lND5OTW9ST7t49MJTDtWDXb+TtenzjUVAAAFY2wDwB+6MXHB0undo0l67fZcuDAAVMNDPp5t6+aJae2bSSvPHW3qQIAKkNI4X+UA+v/IgFgz5690vPSoZKalm4qQPmFhITIZ2//Wzq0a2EqUElJSTJ69GgZNWqUs2ybQQ9Nke9/WS/RrS8s/HfA//szBw78ITt//VBOa99cXphwu6kCACoLYd8HBtzztKzJ+F3CGnYzFaB8tix9RwZcc64MvulCU4HL9rCvBo+cKl//sEZiTigM/FVCTdX/HPhjnzN054xOreS5R281VQBAZWIYj5e9+u5n8sMvqQR9eE32+q+kfdtmBP0gNnHMQOlxehvJXP2h/LF/r6n6F/1c21d9KN1Oa03QBwA/Qtj3ouW/psoD46ZKzaZ/NRWgfLI3r5I9WWny8uN3mAqC1VOjb5ZeZ7STnb/Okv379piqf9DPs33lLOnRpa1MGneLqQIA/AFh34vuGD5Z2nY+VyKiGpgKUHa/786Wrb99IU+PvlUiqoebKoLZEyP/KX26d3Q6/Pv37jbVyqWfQ4P+3846Wf4zZoCpAgD8BWHfS+4b+5Lsr1JLqtZubypA+eSs+1ISr75Yenc7xVQAkQnDE+WC3p1l56pZsu/3XaZaOfT9Neif17OTPDnqJlMFAPgTwr4XfPjZ1/LRF99JWKPupgKUT87G76RxvQhJGnq1qQCHPXLfDXJJny7OVW/27sk31Yql76tj9C84+zR5fPiNpgoA8DeE/XJKz9gmQ0Y9J7Vb9ZYqodVMFSi73O3rZOeGn53rrAMlGXPv9XLp37se7PDvzjXViqHvt33FTLnk3DPkXw/+w1QBAP6IsF9Otw+fIk3bdJHq0U1NxTsmDu4oc57oJv16NDKVgzq0jHLq+ri3TH+w85/ex9Md/Voe8X7vjznDeX7R+vHQ1+nrXfre+vfotrSuc6W1shpzUzuvfj8VSU90zEz5Uh55aIA0ql/bVIHijRpyjVx1yV+dG1jtLcgxVd/S99lSGPQvvaC7PHLvdaYKAPBXhP1y+Nekt2Xzzt0SWq+zqXhX+vYC6d2pnlk76IpecU69smg4X56aI8nzM0yldPR1l41cZNZEakWESZ9hC2VScopT13l5jXx5pQyeuNSsBZacdfPkvLPPkCsvYkgYjs/wwVfKdZeeLdt/nSW/78oyVd/Q7W9dOVOu6dtbxtxzjakCAPwZYb+Mvvp2qbzw2kdSPa6HqXjf4lVZ0q55LbN2UNf2tZ26S7vY2gV3J5dnvbhueUldeX1OSV1+3WZO/j4nTBel23Lfz7Nz71nX7eqRCfdxrUXVDD30uPscT7qudeUeBdBJl12edd1+WY44+IPs9J8kInS3TBzNFU1QOg/cfrnceEUf2bbqQ9mzK9NUvUu3u2XFrMIdi3Pk4buvNFUAgL8j7JdBXn6BDH54sjTrcI6EVY8yVd9YuT73UFjXua570uCtnXGdvlm+0wnkSncK3Prxdss1hE+ekVJs1153OtrHR5XYMde6+3565EE/qwbvuLoRh+pFtzv02WXOzoPn6zzp6wcltHQeU4njlxx6rtIdAXfnwK0vS6mYoQzeVpCdIemr5skLE7iePsrm3lsvlZuvPV+2rZgpe/J3mKp36Pa2Lp8piVedL8PvvNxUAQCBgLBfBneOmCIx9VtLaHQrU/GduT9uk9PbxjjLOtd1T+4Yfp004Ls0OHt22I9FQ/Xrc9JKHJ7j7mQU7by73A68Tu7RCDd4e3bhS+PJ2zscCvZKdyDc99CdCKWfV5cDdYy+Kzv1Kxkx7J/StnUzUwFKb8jNCXLbjZfIlsJgvjtvu6mWj25ny/JZMuC6i+SBQf1MFQAQKAj7pfTiGx/L0l83SljDrqbiWxpmdVy7hmmdFw3jw65qLTMXZDihWDv7Lu2CJ01f6QRj98jA0ehrNfAfje4MlPSc6/s0c44K6OfwPPqg4/D18+nnKGlHoST6mTx3FPp2b+QcDdD38DwKoOurN+Q576E7P4Eme/2X0rljS7nthvNNBSi7wTddLHcPuFS2rpgpBblHNgdKS1+/uXDH4bYb+8o9t/Q1VQBAICHsl8LSFWtl5ISXpUaTnqZSMfSEWA3ZOi+OG3ybNTjY7XZpZ12D9glNI511HTLjBm73aIHrx9+ynHB9tA657mgUDeCe1qQfvN6323V3ua/r1ObI9zwW99wAz50V92hB0ffQoUq6k9HzlLqmEhgyM1bIvpxN8uJjDN+B99x244Uy7NYrnKE3BTlbTLV09HVbfpkhg2++rHDn4WJTBQAEGsJ+Kdw+fLKceNr5Ur1WxQbKd+elO/PiTozVMK87AtrV1s6/8hzao93wF2anOnUdAuQ+V4N/Ubp9PWHWHfdfnOICuNJt67Ab3bbLc2iPDjEq7vMfix6h0L9Bt6U7DO723M9fdGiPN67mU1H25GfJ1l+/kMnjB0lYWKipAt4x8Lq/y4ODr5HNvxQG/uzSXT1Ln5/xyywZdttVcmfhjgMAIHCFHChklnEUd496Xpas2i7hTXqZClA+O1bOlMvO7yLDB19hKiiLpKQkGT16tIwaNcpZxpFefe9zSXr8VWnU4WKpEd3YVEu2K3uTbFo6Sx4acoPcfM25pgoACFR09o/DBx/Pl/9b+LNUa8S1z+EduRsXSbNG0QR9+Nw/Lj9Hxj6QKOlLZ0p+5sGjhCXRx/V5Dw+7kaAPAJYg7B9D6obNck/ScxIT30tCqjLUAuWXuy1FMtOXyYuPM04fFeO6fmfLhBE3Fwb5GZK/c4OpHknr6ctmyNj7/yk3XXWOqQIAAh1h/xjuHDFZ4k86S6pHx5kKUHb7fy+QHWvnyuMP3yp1a0ebKuB7V17SU54aO0g2Fgb+vJ1ppnqQrm9cOlPGD79Fbrist6kCAGxA2D+KsU+9ITtyD0jVOqeaClA+Oeu/lL7n95BLzjv+eyAA3nLp37vLfx4dLGk/JUvujoMn7utc1x9PGiTXJlTslcYAAL5H2C/BFwuWyKvvzZFqjXuYClA+2ZuWSFTEfvn3w/1NBah4fc87S158Yphs+HGGrPvudVn0yvXSrOYWuepi/lsHADYi7BcjKztP7nr4OWnc7hwJC69pqkDZ5Wdtks2rF8oLXE8ffuDvZ58h0yfeL5mbljvr1cP4XwEA2Ir/whfj9hGTpW5cW6kW3cJUgLI7UPhP9rp5knTvAGkVf+xLHwIVoU/P02XEkBvMGgDAVoT9IiZPnyWr122V0AaMqYZ35BYG/a6ntZObruYKJ/AvnU5uY5YAALYi7Hv4YelqeXTi6xIR91dTAcona9MvcmDPNnlhwu2mAviPrKwsZx4TE+PMAQD2IewbeiNhvczmCZ3Pl/DIOqYKlN2evB2yadXnMmX87RISEmKqAAAAFYewb9w5YoqE1agvVaNPNBWgfHLSvpK7b7lWTut4gqkAAABULMJ+oXdmzpX5362QMIbvwEty0hZK62Z15N5b+5mKyE8//WSWAP/AMB4AsF/Qh/21qZvknjHPS2TznhJS+A9QXjlb10ju1tXy4oQ7nXUN+UOGDJHevbkzKQAAqFhBH/YHDX9WWnfsKTWiuSQiym/vnnzZsXauPDXmNkldt+ZQyH/66acPdVEBAAAqSsgBPTM1SI18/DX5/NvfpGb8eaYClE/Wbx9LpxPrSc1962X69Ol/CvjTpk0zS/CWmTNnyowZM2TUqFGSlJRkqjge+u9o//79JTExkX83AcBSQRv2P537vQweOUXiTr1WqlaLMFWg7HLTf5C9O1dIyvdv08WvBIT90iPsA4D9gjLsb9+ZLX/tO0Tqt+0jYVHNTBUou/zMjbJp6UyZl/ykzHj/LXnmmWckNTXVPHqYhir4Rt++fSUhIcGs4Xjo8DIdanb33XfLU089ZaoAAJsEZdi/+rbxsiU/QkLrdTEVoOwO7N8n6T/9V4YPvkquv/TwSbgapIqG/iA9kAY/RdgHAPsF3Qm6z7zwgazbmBnUQb9DyyiZ80Q3mTi4o6mI3NGv5RHr3qbbHnNTO2fZfX+d+vVo5NQCWU7al9Kza8cjgr7SALVu3TonRMXHx5sqAABAxQmqsL9oyQp5aup7Eh7X01SCV07+PmnXvJYTvH1BQ/z0BzubNZHBE5fKyJdXOss9T6kr3yzfKX2GLZTk+RlOLVDlbF4mofuz5Lnxg0zlzzxDPwAAQEUKmmE8e/fuk26XDJGajTtLaExw39FUA35SYjtZnpojMZFhThDXzv4JTSOdZaVBPa7uwROXJ89IcUK5vu7J2zs4NdfQZ5cdUZu5IEPStxfIoISWpnKYBvytmXukb/eD3Xzd4bhs5CJnORDtzt0uKYtel//991/S8aRWpgoEDobxAID9gqazf8eIyRIR2yTog74n7bQX193X4TaLV2U5nXedru9z8CTmYVe1dsK81lauz3V2Apal5Bx6ngb/3p3qOTsG+piGfvcxDfpqUnKKs6xTIAd9lbN+rtx35z8I+ghY7lWjoqOjnTkAwD5BEfZff+9z+e6ntVKtUXdTgUtD980XHTmevFmDCKf77o6rj6oZemiHQAO80prb+dejAPq8ol1/m+WmLZT2bZrIXQMuNhUAAAD/Y33YX7UmTe4f97zUbNrDVOBJu/sa2uvHhpvKQdqZd7vyOmkHX4fd6PAcDfZKu/Q6/Efpc7SzHwyyt6yWXTvXytTHbjcVAAAA/2R92B/04GQ5sfM5EhEd+Fd98ZW5P26Tru1rm7WDY+l1OE5RulPghv/E8UtM9eDzlZ54a7u9u3Nk2+ovZOLYQRJZk5uxAQAA/2Z12H9w/DTZKxFSNfZkU0FxtEPvBnalJ+lqsHeH8bw/5gynrkN43JpOOrZfX+s+13MHQcft14oIc+o2XF7Tlbv+K7nhyvOl11mnmAoQuLKzs515TEyMMwcA2Mfaq/HMnvON3DfuZWl46jVSNfTIISooGw397km17hV9Av0k29LI3fid1AnPlo9eTTIVILDplXj0ijx6JR69Ig8AwD5WdvYztu6UoUnPS902vQn6XuTZ2deTcV+fk2YesV/ezjTZtn4J4/QBAEBAsTLs3zH8WYlr3VnCo5ubCrxBh/e4Y/Z1CvQbYh2vP/b9LpkpX8i/RgyUuEZ/PpcBCFTupTcZxgMA9rIu7P/7ufclfesuCa17mqkA5ZOX9pWc+9cucsVFXNEJAAAEFqvC/oJFy+TZackS3oRQBu/Iy1gq4SF5MnHsQFMBAAAIHNaE/YLde2TwyCnS4uRzpVp17gaJ8ivI2SKpv3wuU8YzTh8AAAQma8L+7cOnSFS9FlI1ppWpAOWTs36ejLx3gLQ/8cg7DAMAAAQKK8L+9Lc/lZ9XpEpYg7NMBd608MUr5PMnu8u+PXmmYr+8tPlyart4ue2Gv5sKYB9O0AUA+wX8dfaXrVwnfa4cZtbgC1tXzpYD+/dK/XYXSUjVMFO1W7OmcTI/+UkJDw+OvxfBqV+/fjJjxgxJTk6WhIQEUwUA2MTam2rBe2JjY50OYGZmJh1AwCKEfQCwn3WX3gQAAABwEGEfAAAAsBRhH8fkDt1xT+YDYAdO0AUA+xH2AQAAAEsR9gEAAABLEfYBAAAASxH2ASBIMWYfAOxH2McxcYIuAABAYCLsAwAAAJYi7AMAAACWIuwDQBDR4Xiek2LMPgDYi7APAEFkyJAhEhsb60ypqalOrUWLFhISEuLMOTcHAOxC2McxcYIuYI+nnnrKLP3ZqFGj6PIDgGUI+wAQRDTMJyYmmrXD4uPjJSEhwawBAGxB2AeAIFNcd5+uPgDYibCPYs2bN09mzJjhTO7wnZkzZ8r06dPl6aefZkgPEMCKdvd79epVbLcfABD4Qg4UMsvAIRry+/XrZ9aOpMFg7ty5Zg1AINKTc/WEXJWcnMwQHgCwFGEfJerUqZP89NNPZu0wggFgh/79+zuhn513ALAXYR8lKq67f+qpp8qPP/5o1gAEMg36OunROgCAnQj7OKqi3f1p06YxthdBYc+evdLz0qGSmpZuKkD56f0MPnv739Kh3cEhVADga4R9HJUGfQ38Si/Np119rtiBYDDgnqdlTcbvEtawm6kA5bNl6Tsy4JpzZfBNF5oKAPgeV+PBUemwHfcQP5fmQ7B49d3P5IdfUgn68Jrs9V9J+7bNCPoAKhydfRyTdvd17D5dfQSD5b+mSp8r75GWf7lWIqIamCpQdtmbV8meLYvl29lPS0T1cFMFgIpB2Mdx0evucxIfgkHvy++TkFqtpWrt9qYClN3vu7Nl/fdvyLSn7pPe3U4xVQCoOAzjwXEh6CMY3Df2JdlfpRZBH16Ts+5LSbz6YoI+gEpD2AeAQh9+9rV89MV3Etaou6kA5ZOz8TtpXC9CkoZebSoAUPEYxuNjmbu2ypKNc2Vj1hpn2pG32TyCilAnsqE0iWntTJ2b9JbYGvXNI8Bh6RnbpOelw6RR+wukenRTUwXKLnf7Otnx2+fy1YwnpVH92qYKABWPsO9D36Z+KjOXPi9dW1zghM2msW2kXmSceRQVYVteumzI/M3Z0fpm3cfSt+NAOTP+fPMocFDCTWMke1+shNbrbCrlN3FwR2nXvJZMnpEiyfMzTFWkQ8soefL2DrJyfa4MnrjUVMtn+oOdZeaCjCPex9Md/VrKCU0jD73f+2POkNfnpElc3Ygj6sejX49Gcn2fZnLZyEXOur63bkffv3enejL3x20yKTlF5jzRTfoMW+g8p7TG3NROYiLDvPb9VLT9+/ZI+pL/ytj7b5QrL+JIEYDKxTAeH3n9+wmFYf9/ckv3R+SSDgOkc9NeBP1KoN+5fvf6G9zS7ZHC3+QT57cBXP+a9LZs3rnbq0Hflb69wAnAnq7oFefUK4uG8+WpOSXuGByLvs4N+qpWRJgT6jXga13n5TXy5ZUBG/RVzrp5ct7ZZxD0AfgFwr4PaKDcnr9J7u71tMTXbmeqqGzxddo5v4n+NnrUBfjq26XywmsfSfW4HqbiXYtXZTndfU9d29d26i7tYmsX3J1cnnXtzCvPx7WmRw+K0udo9704us2c/H1OmC5Kt+W+n3b+XZ513a4emXAf11pUzdBDj7vP8aTrWle6o+E+T5ddnnXdfkl/WyDITv9JIkJ3y8TRA0wFACoXYd/LdIz+zKVTJaHDLaYCf5PQ8RZneJX+VgheefkFMvjhydKswzkSVj3KVL1Ph+u4YV3nuu5Jg7d2xnX6ZvlOJ5Ar3Slw68fbLdcQXnTYkEt3OtrHR5XYMde6+3565EE/qwZvHaLj1otud+izy5ydB8/XedLXD0po6TymEscvOfRcpTsC7s6BW1+WkuOsB6KC7AxJXzVPXphwh6kAQOUj7HuZnoyrY/S1iwz/pEdb9DfS3wrB684RUySmfmsJjW5lKr6hY9hPb3vwZnQ613VPGojdrrYGfJcGZ88O+7FoqNZx+CUNz3F3Mop23l1uB14n92iEG7w9u/CloecmuMFe6Q6E+x66E6H08+pyoHbyPWWnfiUjhv1T2rZuZioAUPkI+16mJ4Lqybjwb/ob6W+F4PTiGx/L0l83SljDrqbiOxpmdVy7hmmdFw3jw65q7ZzcqqFYO/su7YInTV/pBGP3yMDR6Gs18B+N7gyU9Bw96VaPCujn8Dz6oOPw9fPp5yhpR6Ek+pk8dxT6dm/kHA3Q9/A8CqDrqzfkOe+hOz+BKHv9l9K5Y0u57QYuAADAvxD2vYywHxj0ykiE/eC0dMVaGTnhZanRpKep+J6eEKshW+fFcYNvswYHu90u7axr0NYr5igdMuMGbvdogevH37KccH20DrnuaBQN4J7WpOc7c7fr7nJf16nNke95LO65AZ47K+7RgqLvoUOVdCej5yl1TSVwZGaskH05m+TFxxi+A8D/EPa9TK+jX79WE7MGf6VX6eGeB8Hp9uGT5cTTzpfqtSouVL47L92ZF3dirIZ53RHQrrZ2/pXn0B7thr8wO9Wp6xAg97ka/IvS7esJs+64/+IUF8CVbluH3ei2XZ5De3SIUXGf/1j0CIX+Dbot3WFwt+d+/qJDe7xxNZ+KtCc/S7b++oVMHj9IwsJCTRUA/AfX2feyoR/8XZ689H9mDf6M3yr43D3qeVmyaruEN+llKkD57Fg5Uy47v4sMH3yFqQCAf6GzDyAofPDxfPm/hT9LtUZc+xzekbtxkTRrFE3QB+DXCPsArJe6YbPck/ScxMT3kpCqDLVA+eVuS5HM9GXy4uOM0wfg3wj7AKx354jJEn/SWVI9mrtYo/z2/14gO9bOlccfvlXq1o42VQDwT4R9AFYb+9QbsiP3gFStc6qpAOWTs/5L6Xt+D7nkvOO/DwIAVBbCvmUWLFggISEhhyZdd3nWiz5+/vnny4QJE5xlT4MGDfrTa7SmUlJSjqi/9dZbTt1T69atnceK0vfS9wR86YsFS+TV9+ZItcY9TAUon+xNSyQqYr/8++H+pgIA/o2wbxEN3z169JD58+eLXmRJp3HjxplHD/J8TKfu3Y99suJtt912xGsmT57s1Fu1aiX//e9/D9WnT5/u1F3ujsR5551X7I6AP5s3b5506tTJrCEQZWXnyV0PPyeN250jYeE1TRUou/ysTbJ59UJ5gevpAwgghH2LbNq0yZk3btzYmatPPvnELHmX7lioJk0O31Og6Hu9+eabMnDgQDn77LP/tCPgr9yQ37t3b/npp59MFYHo9hGTpW5cW6kW3cJUgLI7UPhP9rp5knTvAGkVf/i/sQDg77jOvpdV9rXbddjM2rVrnallyyNvmqPDabSzX1w3X4fUaCi/7777TOUgd8iO2833pK/59NNPS9ym+36686FHATw/kw7j+eKLL3y2M3I8PH8rDflDhgz5U8DPzMw0S0fKysoyS392tMdUSY+X9XWqPK/Nzs42S8Ury/uW5/Oosryncn+vydNnybT3vpKYE/s560B55aybKx1axXD1HQABh7DvZf5woyYN6FOmTHGWPQN20bHzOrzGDdtHC/vutlxFQ/v999/vLHuGfh22M2LECFmzZo2zXnT7/hL2L6l9v4wePdoJ+wh8GvbXpm2VvokjpGWX6yU8so55BCi7rE2/SEjOClk0++liz0ECAH9G2Pcyf7orqxvE3XDu7c6+Jw3311xzzaHtFxfu9bO4/7r5U9h/5plnZMaMGaZ6pJiYGLN0pJLq6miPqbJsU5XnPaOjS748oC/etzzbVGV5T6V/Z7e+Q6R6/Y5SNfpEUwXKbk/eDln73Wsy65VH5LSOJ5gqAAQOwr6X+VPYV54B35dhX+kQIj0h+C9/+YszbKc4ekLv1Vdf7Tdh33MYzyuvvPKncwu0U3ysYAr/ccfwybJsbZZUi+tpKkD5bFuRLNf17Sb33sqQMACBiRN0LaIBWieXewUczxN2vUW37e4IKL3yjh5B0BN233vvPSfs636k56TDhvz1RN1evXrJtGnT5Mcff5TExERTRSB5Z+Zcmf/dCgmL+6upAOWTk7ZQWjerQ9AHENAI+xbRrvzUqVOdDr5OOqzGc3y90ktzuo/r5HlJTB1m4/mYe+lMHbPvWdejANqd97zOvnvJTz1qoJ+h6CU/lYZoPaHXvZKPPzr11FMJ/QFobeomuWfM8xLZvKcU/htpqkDZ5WxdI7lbV8uLE+40FQAITAzj8TJ/G8aDkvFb2eO864bL3mpNpGrtjqYClN3ePfmyccmb8uz4O+W8nqeZKgAEJjr7AALayMdfk9zdVQn68Jr8tC/likv+RtAHYAXCPoCA9enc7+XtWXOlemPG6cM7ctN/kNqRITL+gRtMBQACG2EfQEDavjNbhoycIo3a9pGq1SJMFSi7/MyNsnnNt/L8Y9w4C4A9CPsAApJeZrNBi44SFtXMVICyO7B/n2SmzJVxD90s8U0bmioABD7CPoCA88wLH8i6jZkSWq+LqQSviYM7ypwnuh2a+vVoZB45fu+POaPY13VoGeVs0+W+1/QHO5uKPXLSvpSeXTvK9Zf2NhUAsANhH0BAWbRkhTw19T0J58ZZh8xckCF9hi2UyTNS5Po+pT/ScdnIRZI8P8NZ1iDvBv9lKTnOdl1xdSOc9cTxS0zFDjmbl0no/ix5bvzhe4cAgC0I+wACxt69++TO4VOkRcc+El6TOxsXpYE9qmaoWZNiO/5ut96zQ+8GfJ1roB+U0PKI1yrt/uu2df2Ofofv3RHodudul42//F9h0L/dVADALoR9AAHjjhGTJSK2iYTGnGAq8KQhPCd/n7Oswd2z468BXt18UfyhetEOva6nby9wnq+Pe3b1tfuvtDYp2X9vjFdaOevnyn13/kM6ntTKVADALoR9AAHh9fc+l+9+WivVGnU3Fbj6dm/kdNx17oZy7dC7oVw7/roToF391RvynOeVZWy/bXLTFkr7Nk3krgEXmwoA2IewD8DvrVqTJvePe15qNu1hKvDkduo9O/El0R0AfZ4GfncYTzDK3rJadu1cK1MfY/gOALsR9gH4vUEPTpYTO58jEdF0o4+XdvLdsfWeJ9y6dMiOdv+D0d7dObJt9RcycewgiazJPRoA2I2wD8CvPTh+muyVCKkae7Kp4HgkTV95aHiPjtfXdaXdfPfE22+W73RqnhavynKeb3PXP3f9V3LDledLr7NOMRUAsFfIgUJmGV4w9IO/y5OX/s+swZ/xW/m/2XO+kfvGvSwNT71GqoaGmypQdrkbv5M64dny0atJpgIAdqOzD8AvZWzdKUOTnpe6bXoT9OEVeTvTZNv6JYzTBxBUCPsA/NIdw5+VuNadJTy6uakAZffHvt8lM+UL+deIgRLXqJ6pAoD9CPteVieyoWzLSzdr8Ff6G+lvBf/07+fel/StuyS07mmmApRPXtpXcu5fu8gVF3FFJwDBhbDvZU1iWsuGzN/MGvyV/kb6W8H/LFi0TJ6dlizhTQhl8I68jKUSHpInE8cONBUACB6EfS/TALkxa41Zg7/S34iw738Kdu+RwSOnSIuTz5Vq1aNNFSi7gpwtkvrL5zJlPOP0AQQnwr6XdW7SW75Z97Gk7jx4mTv4n9QdK53fSH8r+Jfbh0+RqHotpGpMK1MByidn/TwZee8AaX9ivKkAQHAh7HtZbI360rfjLTJj6fOmAn8zY9nzhb/RQOe3gv+Y/van8vOKVAlrcJapAOWTlzZfTm0XL7fd8HdTAYDgw3X2feT17yfI9vxNktDhFomv085UUZn0aIvuhNWt2Viu73KfqcIfLFu5TvpcOcysAd7RrGmczE9+UsLDw0wFAIIPYd+Hvk39RGYunSpdW1zgjA/XqX6tJuZRVAS96o6ejKtj9HXojh51OTP+PPMoAACA3Qj7Ppa5a6ss2TjXCZs67cjbbB5BRdDLa7o7WjpGn6E7AAAgmBD2AQAAAEtxgi4AAABgKcI+AAAAYCnCPgAAAGApwj4AAABgKcI+AAAAYCnCPgAAAGApwj4AAABgKcI+AAAAYCnCPgAAAGApwj4AAABgKcI+AAAAYCnCPgAAAGApwj4AAABgKcI+AAAAYCnCPgAAAGAlkf8Hnund/tnXi3MAAAAASUVORK5CYII=)"
      ]
    },
    {
      "cell_type": "code",
      "execution_count": 21,
      "metadata": {
        "id": "T_k1ad9shqXO"
      },
      "outputs": [],
      "source": [
        "import pandas as pd\n",
        "import matplotlib.pyplot as plt\n",
        "import numpy as np\n",
        "import seaborn as sns\n",
        "from sklearn.model_selection import train_test_split\n",
        "from sklearn.preprocessing import StandardScaler\n",
        "from sklearn.neighbors import KNeighborsClassifier\n",
        "from sklearn.metrics import confusion_matrix, accuracy_score, precision_score, recall_score, f1_score"
      ]
    },
    {
      "cell_type": "markdown",
      "metadata": {
        "id": "DI32CXCikNTx"
      },
      "source": [
        "**Data Set**:\n",
        "Dataset yang saya gunakan adalah dataset Diabetes dari Kaggle yang berisi data medis dari pasien dengan beberapa fitur dan satu label yang menunjukan apakah pasien :\n",
        "Menderita Diabetes (1) Jika tidak (0).\n",
        "\n",
        "Fitur dalam dataset meliput :\n",
        "\n",
        "*   Pregnancies              : Jumlah kehamilan.\n",
        "*   Glucose                  : Konsentrasi glukosa plasma dua jam dalam tes toleransi glukosa oral.\n",
        "*   BloodPressure            : Tekanan darah diastolik (mm Hg).\n",
        "*   SkinThickness            : Ketebalan lipatan kulit triceps.\n",
        "*   Insulin                  : Serum insulin dua jam.\n",
        "*   BMI                      : Indeks massa tubuh(berat badan dalam kg).\n",
        "*   DiabetesPedigreeFunction : Fungsi riwayat diabetes.\n",
        "*   Age                      : Usia.\n",
        "*   Outcome                  : Variabel target (0 atau 1).\n",
        "\n",
        "\n",
        "\n",
        "\n",
        "\n",
        "\n",
        "\n",
        "\n",
        "\n",
        "\n",
        "\n"
      ]
    },
    {
      "cell_type": "markdown",
      "metadata": {
        "id": "gvHQDizmxgng"
      },
      "source": [
        "**Menampilkan 5 baris pertama dataset diabetes.csv**"
      ]
    },
    {
      "cell_type": "code",
      "execution_count": 26,
      "metadata": {
        "colab": {
          "base_uri": "https://localhost:8080/"
        },
        "id": "pycItNtoh257",
        "outputId": "6e2e50cc-fb7d-4664-ccfc-18e24875663c"
      },
      "outputs": [
        {
          "name": "stdout",
          "output_type": "stream",
          "text": [
            "   Pregnancies  Glucose  BloodPressure  SkinThickness  Insulin   BMI  \\\n",
            "0            2      138             62             35        0  33.6   \n",
            "1            0       84             82             31      125  38.2   \n",
            "2            0      145              0              0        0  44.2   \n",
            "3            0      135             68             42      250  42.3   \n",
            "4            1      139             62             41      480  40.7   \n",
            "\n",
            "   DiabetesPedigreeFunction  Age  Outcome  \n",
            "0                     0.127   47        1  \n",
            "1                     0.233   23        0  \n",
            "2                     0.630   31        1  \n",
            "3                     0.365   24        1  \n",
            "4                     0.536   21        0  \n"
          ]
        }
      ],
      "source": [
        "data = pd.read_csv('diabetes.csv')\n",
        "print(data.head())\n"
      ]
    },
    {
      "cell_type": "markdown",
      "metadata": {
        "id": "2HXfh7JhxxvW"
      },
      "source": [
        "**Split Data**"
      ]
    },
    {
      "cell_type": "code",
      "execution_count": 3,
      "metadata": {
        "id": "E6Pb-aiwh59L"
      },
      "outputs": [],
      "source": [
        "X = data.drop(\"Outcome\", axis=1)\n",
        "y = data[\"Outcome\"]\n"
      ]
    },
    {
      "cell_type": "markdown",
      "metadata": {
        "id": "IXC1XctPzFKs"
      },
      "source": [
        "**Test Split** : Data dibagi menjadi set pelatihan dan pengujian menggunakan rasio 80:20"
      ]
    },
    {
      "cell_type": "code",
      "execution_count": 5,
      "metadata": {
        "id": "1KQ7YniZiGdH"
      },
      "outputs": [],
      "source": [
        "X_train, X_test, y_train, y_test = train_test_split(X, y, test_size=0.2, random_state=60)\n"
      ]
    },
    {
      "cell_type": "markdown",
      "metadata": {
        "id": "2h7Ar-INy_9y"
      },
      "source": [
        "**Standarisasi Fitur**"
      ]
    },
    {
      "cell_type": "code",
      "execution_count": 6,
      "metadata": {
        "id": "4Pv4yFW_iKkL"
      },
      "outputs": [],
      "source": [
        "sc = StandardScaler()\n",
        "X_train = sc.fit_transform(X_train)\n",
        "X_test = sc.transform(X_test)\n"
      ]
    },
    {
      "cell_type": "code",
      "execution_count": 7,
      "metadata": {
        "colab": {
          "base_uri": "https://localhost:8080/",
          "height": 74
        },
        "id": "vzbftvT1iMDG",
        "outputId": "202ee0af-dc63-4d71-edab-c4197f1a1805"
      },
      "outputs": [
        {
          "data": {
            "text/html": [
              "<style>#sk-container-id-1 {color: black;background-color: white;}#sk-container-id-1 pre{padding: 0;}#sk-container-id-1 div.sk-toggleable {background-color: white;}#sk-container-id-1 label.sk-toggleable__label {cursor: pointer;display: block;width: 100%;margin-bottom: 0;padding: 0.3em;box-sizing: border-box;text-align: center;}#sk-container-id-1 label.sk-toggleable__label-arrow:before {content: \"▸\";float: left;margin-right: 0.25em;color: #696969;}#sk-container-id-1 label.sk-toggleable__label-arrow:hover:before {color: black;}#sk-container-id-1 div.sk-estimator:hover label.sk-toggleable__label-arrow:before {color: black;}#sk-container-id-1 div.sk-toggleable__content {max-height: 0;max-width: 0;overflow: hidden;text-align: left;background-color: #f0f8ff;}#sk-container-id-1 div.sk-toggleable__content pre {margin: 0.2em;color: black;border-radius: 0.25em;background-color: #f0f8ff;}#sk-container-id-1 input.sk-toggleable__control:checked~div.sk-toggleable__content {max-height: 200px;max-width: 100%;overflow: auto;}#sk-container-id-1 input.sk-toggleable__control:checked~label.sk-toggleable__label-arrow:before {content: \"▾\";}#sk-container-id-1 div.sk-estimator input.sk-toggleable__control:checked~label.sk-toggleable__label {background-color: #d4ebff;}#sk-container-id-1 div.sk-label input.sk-toggleable__control:checked~label.sk-toggleable__label {background-color: #d4ebff;}#sk-container-id-1 input.sk-hidden--visually {border: 0;clip: rect(1px 1px 1px 1px);clip: rect(1px, 1px, 1px, 1px);height: 1px;margin: -1px;overflow: hidden;padding: 0;position: absolute;width: 1px;}#sk-container-id-1 div.sk-estimator {font-family: monospace;background-color: #f0f8ff;border: 1px dotted black;border-radius: 0.25em;box-sizing: border-box;margin-bottom: 0.5em;}#sk-container-id-1 div.sk-estimator:hover {background-color: #d4ebff;}#sk-container-id-1 div.sk-parallel-item::after {content: \"\";width: 100%;border-bottom: 1px solid gray;flex-grow: 1;}#sk-container-id-1 div.sk-label:hover label.sk-toggleable__label {background-color: #d4ebff;}#sk-container-id-1 div.sk-serial::before {content: \"\";position: absolute;border-left: 1px solid gray;box-sizing: border-box;top: 0;bottom: 0;left: 50%;z-index: 0;}#sk-container-id-1 div.sk-serial {display: flex;flex-direction: column;align-items: center;background-color: white;padding-right: 0.2em;padding-left: 0.2em;position: relative;}#sk-container-id-1 div.sk-item {position: relative;z-index: 1;}#sk-container-id-1 div.sk-parallel {display: flex;align-items: stretch;justify-content: center;background-color: white;position: relative;}#sk-container-id-1 div.sk-item::before, #sk-container-id-1 div.sk-parallel-item::before {content: \"\";position: absolute;border-left: 1px solid gray;box-sizing: border-box;top: 0;bottom: 0;left: 50%;z-index: -1;}#sk-container-id-1 div.sk-parallel-item {display: flex;flex-direction: column;z-index: 1;position: relative;background-color: white;}#sk-container-id-1 div.sk-parallel-item:first-child::after {align-self: flex-end;width: 50%;}#sk-container-id-1 div.sk-parallel-item:last-child::after {align-self: flex-start;width: 50%;}#sk-container-id-1 div.sk-parallel-item:only-child::after {width: 0;}#sk-container-id-1 div.sk-dashed-wrapped {border: 1px dashed gray;margin: 0 0.4em 0.5em 0.4em;box-sizing: border-box;padding-bottom: 0.4em;background-color: white;}#sk-container-id-1 div.sk-label label {font-family: monospace;font-weight: bold;display: inline-block;line-height: 1.2em;}#sk-container-id-1 div.sk-label-container {text-align: center;}#sk-container-id-1 div.sk-container {/* jupyter's `normalize.less` sets `[hidden] { display: none; }` but bootstrap.min.css set `[hidden] { display: none !important; }` so we also need the `!important` here to be able to override the default hidden behavior on the sphinx rendered scikit-learn.org. See: https://github.com/scikit-learn/scikit-learn/issues/21755 */display: inline-block !important;position: relative;}#sk-container-id-1 div.sk-text-repr-fallback {display: none;}</style><div id=\"sk-container-id-1\" class=\"sk-top-container\"><div class=\"sk-text-repr-fallback\"><pre>KNeighborsClassifier(n_neighbors=6)</pre><b>In a Jupyter environment, please rerun this cell to show the HTML representation or trust the notebook. <br />On GitHub, the HTML representation is unable to render, please try loading this page with nbviewer.org.</b></div><div class=\"sk-container\" hidden><div class=\"sk-item\"><div class=\"sk-estimator sk-toggleable\"><input class=\"sk-toggleable__control sk-hidden--visually\" id=\"sk-estimator-id-1\" type=\"checkbox\" checked><label for=\"sk-estimator-id-1\" class=\"sk-toggleable__label sk-toggleable__label-arrow\">KNeighborsClassifier</label><div class=\"sk-toggleable__content\"><pre>KNeighborsClassifier(n_neighbors=6)</pre></div></div></div></div></div>"
            ],
            "text/plain": [
              "KNeighborsClassifier(n_neighbors=6)"
            ]
          },
          "execution_count": 7,
          "metadata": {},
          "output_type": "execute_result"
        }
      ],
      "source": [
        "knn = KNeighborsClassifier(n_neighbors=6)\n",
        "knn.fit(X_train, y_train)\n"
      ]
    },
    {
      "cell_type": "markdown",
      "metadata": {
        "id": "giwNWUt_ii0h"
      },
      "source": []
    },
    {
      "cell_type": "markdown",
      "metadata": {
        "id": "dikQYZrjy6Jo"
      },
      "source": [
        "**Prediksi**"
      ]
    },
    {
      "cell_type": "code",
      "execution_count": 8,
      "metadata": {
        "id": "lRgqi0GDijoP"
      },
      "outputs": [],
      "source": [
        "y_pred = knn.predict(X_test)\n"
      ]
    },
    {
      "cell_type": "markdown",
      "metadata": {
        "id": "QWv270rWy1jL"
      },
      "source": [
        "**Evaluasi**"
      ]
    },
    {
      "cell_type": "code",
      "execution_count": 23,
      "metadata": {
        "id": "PCxNN8BGimvZ"
      },
      "outputs": [],
      "source": [
        "cm = confusion_matrix(y_test, y_pred)\n",
        "accuracy = accuracy_score(y_test, y_pred)\n",
        "precision = precision_score(y_test, y_pred)\n",
        "recall = recall_score(y_test, y_pred)\n",
        "f1 = f1_score(y_test, y_pred)\n"
      ]
    },
    {
      "cell_type": "markdown",
      "metadata": {
        "id": "JFGcBCHG4TMq"
      },
      "source": [
        "**Performa Model**\n",
        "Menunjukan hasil prediksi model dibandingkan dengan nilai sebenernya dalam bentuk matrix 2x2. Berikut Penjelasannya :\n",
        "\n",
        "*   True Negatif (227) : Model memprediksi negatif dan sebenarnya negatif.\n",
        "*   True Positif (89) : Model memprediksi positif dan sebenarnya positif.\n",
        "*   False Positif (17) : Model memprediksi positif tapi sebenarnya negatif.\n",
        "*   False Negatif (67) : Model memprediksi negatif tetapi sebenarnya positif.\n",
        "\n",
        "\n",
        "\n"
      ]
    },
    {
      "cell_type": "code",
      "execution_count": 29,
      "metadata": {
        "colab": {
          "base_uri": "https://localhost:8080/"
        },
        "id": "qVt5XpMnisc3",
        "outputId": "e932e7df-0af5-46e0-80fb-d8f106910b77"
      },
      "outputs": [
        {
          "name": "stdout",
          "output_type": "stream",
          "text": [
            "Confusion Matrix:\n",
            "[[227, 17], [67, 89]]\n",
            "Akurasi: 0.79\n",
            "Precision: 0.84\n",
            "Recall: 0.57\n",
            "F1 Score: 0.68\n"
          ]
        }
      ],
      "source": [
        "print(f'Confusion Matrix:\\n{cm}')\n",
        "print(f'Akurasi: {accuracy:.2f}')\n",
        "print(f'Precision: {precision:.2f}')\n",
        "print(f'Recall: {recall:.2f}')\n",
        "print(f'F1 Score: {f1:.2f}')\n"
      ]
    },
    {
      "cell_type": "markdown",
      "metadata": {
        "id": "-pxnKfY26FiU"
      },
      "source": [
        "**Kesimpulan dan Hasil** :\n",
        "Berdasarkan hasil evaluasi model KNN yang sudah saya terapkan pada dataset diabetes.csv, berikut adalah beberapa poin penting yang dapat saya simpulkan :\n",
        "*   Akurasi : model memiliki akurasi sebesar 79% yang menunjukan bahwa model dapat memprediksi dengan benar 79% dari total data sampel uji.\n",
        "*   Precision : Menunjukan bahwa ketika model memprediksi diabetes, 84% dari prediksi tersebut benar. Ini berarti model memiliki tingkat kesalahan yang relatif rendah.\n",
        "*   Recall : Menunjukan bahwa model hanya dapat mendeteksi 57% dari semua kasus diabetes yang sebenarnya ada.\n",
        "*   F1 Score : Sebesar 68% adalah keseimbangan antara Precision dan Recall. Ini menunjukan bahwa model cukup seimbang tetapi masih dapat ditingkatkan, terutama dalam mendeteksi kasus Positif.\n",
        "\n",
        "\n",
        "\n"
      ]
    },
    {
      "cell_type": "code",
      "execution_count": 25,
      "metadata": {
        "colab": {
          "base_uri": "https://localhost:8080/",
          "height": 564
        },
        "id": "RzPfRG-MsPk7",
        "outputId": "27410a9e-4e0a-4c70-a9f0-38446bfafbeb"
      },
      "outputs": [
        {
          "data": {
            "image/png": "[encoded data removed]",
            "text/plain": [
              "<Figure size 800x600 with 2 Axes>"
            ]
          },
          "metadata": {},
          "output_type": "display_data"
        }
      ],
      "source": [
        "plt.figure(figsize=(8,6))\n",
        "sns.heatmap(cm, annot=True, fmt='d', cmap='Blues', xticklabels=['Tidak Diabetes', 'Diabetes'], yticklabels=['Tidak Diabetes', 'Diabetes'])\n",
        "plt.xlabel('Prediksi')\n",
        "plt.ylabel('Aktual')\n",
        "plt.title('Confusion Matrix')\n",
        "plt.show()"
      ]
    },
    {
      "cell_type": "code",
      "execution_count": 30,
      "metadata": {
        "colab": {
          "base_uri": "https://localhost:8080/"
        },
        "id": "qfJq52fgivvY",
        "outputId": "493fa4df-78ad-4694-a99e-50dcc817f069"
      },
      "outputs": [
        {
          "name": "stderr",
          "output_type": "stream",
          "text": [
            "/usr/local/lib/python3.10/dist-packages/sklearn/base.py:439: UserWarning: X does not have valid feature names, but StandardScaler was fitted with feature names\n",
            "  warnings.warn(\n"
          ]
        }
      ],
      "source": [
        "sample = np.array([[0,135,68,42,250,42.3,0.365,24]])\n",
        "sample = sc.transform(sample)\n",
        "prediction = knn.predict(sample)\n"
      ]
    },
    {
      "cell_type": "markdown",
      "metadata": {
        "id": "6P61eNdn7YN1"
      },
      "source": [
        "Percabangan untuk nilai Outcome jika data Outcome berisikan 1 output Terdeteksi Diabetes jika 0 tidak terdeteksi Diabetes."
      ]
    },
    {
      "cell_type": "code",
      "execution_count": 31,
      "metadata": {
        "colab": {
          "base_uri": "https://localhost:8080/"
        },
        "id": "gMxoIqXqi0mk",
        "outputId": "cd7e2c01-9839-43e4-a60e-7a1fdd2a3255"
      },
      "outputs": [
        {
          "name": "stdout",
          "output_type": "stream",
          "text": [
            "Prediksi untuk sampel baru: 0\n",
            "Tidak terdeteksi diabetes\n"
          ]
        }
      ],
      "source": [
        "print(f'Prediksi untuk sampel baru: {prediction[0]}')\n",
        "\n",
        "# Jika output prediksi adalah 1, berarti terdeteksi diabetes\n",
        "if prediction[0] == 1:\n",
        "    print(\"Terdeteksi diabetes\")\n",
        "else:\n",
        "    print(\"Tidak terdeteksi diabetes\")"
      ]
    }
  ],
  "metadata": {
    "colab": {
      "name": "Selamat Datang di Colaboratory",
      "provenance": []
    },
    "kernelspec": {
      "display_name": "Python 3",
      "name": "python3"
    }
  },
  "nbformat": 4,
  "nbformat_minor": 0
}
